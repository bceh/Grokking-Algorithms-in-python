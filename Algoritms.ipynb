{
 "metadata": {
  "language_info": {
   "codemirror_mode": {
    "name": "ipython",
    "version": 3
   },
   "file_extension": ".py",
   "mimetype": "text/x-python",
   "name": "python",
   "nbconvert_exporter": "python",
   "pygments_lexer": "ipython3",
   "version": "3.7.9-final"
  },
  "orig_nbformat": 2,
  "kernelspec": {
   "name": "Python 3.7.9 64-bit ('base': conda)",
   "display_name": "Python 3.7.9 64-bit ('base': conda)",
   "metadata": {
    "interpreter": {
     "hash": "9e667f2194f521a8146c0f5f54c431c2e8054d57575786a559e0b656dca2d347"
    }
   }
  }
 },
 "nbformat": 4,
 "nbformat_minor": 2,
 "cells": [
  {
   "cell_type": "code",
   "execution_count": 10,
   "metadata": {},
   "outputs": [],
   "source": [
    "def binary_search(arr,elem):\n",
    "    start = 0; end = len(arr) - 1\n",
    "\n",
    "    while start <= end:\n",
    "        mid = (start + end) // 2\n",
    "        if arr[mid] == elem:\n",
    "            return mid\n",
    "        if arr[mid] > elem:\n",
    "            high = mid -1\n",
    "        else:\n",
    "            low = mid + 1    \n",
    "\n",
    "    return None"
   ]
  },
  {
   "cell_type": "code",
   "execution_count": 11,
   "metadata": {},
   "outputs": [],
   "source": [
    "def rec_binary_search(arr,elem, start = 0, end = None):\n",
    "    end = len(arr) - 1 if not end else end\n",
    "    mid = (start + end) // 2\n",
    "    \n",
    "    if   elem  == arr[mid]:\n",
    "        return mid\n",
    "    elif elem  <  arr[mid]:\n",
    "        return rec_binary_search(arr, elem, start , mid - 1)\n",
    "    else:\n",
    "        return rec_binary_search(arr, elem, mid + 1, end)"
   ]
  },
  {
   "cell_type": "code",
   "execution_count": 12,
   "metadata": {},
   "outputs": [],
   "source": [
    "def find_largest(arr):\n",
    "    largest = arr[0]\n",
    "    largest_index = 0\n",
    "    for i in range(1,len(arr)):\n",
    "        if arr[i] < largest:\n",
    "            largest = arr[i]\n",
    "            largest_index = i\n",
    "    return largest_index\n",
    "\n",
    "def selection_sort(arr):\n",
    "    newArr = []\n",
    "    for i in range(len(arr)):\n",
    "        largest = find_largest(arr)\n",
    "        newArr.append(arr.pop(largest))\n",
    "    return newArr"
   ]
  },
  {
   "cell_type": "code",
   "execution_count": 13,
   "metadata": {},
   "outputs": [],
   "source": [
    "def euclidean_algorithm(a,b):\n",
    "    if a > b:\n",
    "        a,b = b,a\n",
    "    if a == 0:\n",
    "        return b\n",
    "    else:\n",
    "        return euclidean_algorithm(a, b-a)"
   ]
  },
  {
   "cell_type": "code",
   "execution_count": 14,
   "metadata": {},
   "outputs": [],
   "source": [
    "def sum(arr):\n",
    "    if arr ==[]:\n",
    "        return 0\n",
    "    else:\n",
    "        return arr[0] + sum(arr[1:])"
   ]
  },
  {
   "cell_type": "code",
   "execution_count": 15,
   "metadata": {},
   "outputs": [],
   "source": [
    "def num_of_elements(arr):\n",
    "    if arr == []:\n",
    "        return 0\n",
    "    else:\n",
    "        return 1 + num_of_elements(arr[1:])"
   ]
  },
  {
   "cell_type": "code",
   "execution_count": null,
   "metadata": {},
   "outputs": [],
   "source": []
  },
  {
   "cell_type": "code",
   "execution_count": null,
   "metadata": {},
   "outputs": [],
   "source": []
  }
 ]
}