{
 "metadata": {
  "language_info": {
   "codemirror_mode": {
    "name": "ipython",
    "version": 3
   },
   "file_extension": ".py",
   "mimetype": "text/x-python",
   "name": "python",
   "nbconvert_exporter": "python",
   "pygments_lexer": "ipython3",
   "version": "3.7.9-final"
  },
  "orig_nbformat": 2,
  "kernelspec": {
   "name": "Python 3.7.9 64-bit ('base': conda)",
   "display_name": "Python 3.7.9 64-bit ('base': conda)",
   "metadata": {
    "interpreter": {
     "hash": "9e667f2194f521a8146c0f5f54c431c2e8054d57575786a559e0b656dca2d347"
    }
   }
  }
 },
 "nbformat": 4,
 "nbformat_minor": 2,
 "cells": [
  {
   "cell_type": "code",
   "execution_count": 10,
   "metadata": {},
   "outputs": [],
   "source": [
    "def binary_search(arr,elem):\n",
    "    start = 0; end = len(arr) - 1\n",
    "\n",
    "    while start <= end:\n",
    "        mid = (start + end) // 2\n",
    "        if arr[mid] == elem:\n",
    "            return mid\n",
    "        if arr[mid] > elem:\n",
    "            high = mid -1\n",
    "        else:\n",
    "            low = mid + 1    \n",
    "\n",
    "    return None"
   ]
  },
  {
   "cell_type": "code",
   "execution_count": 11,
   "metadata": {},
   "outputs": [],
   "source": [
    "def rec_binary_search(arr,elem, start = 0, end = None):\n",
    "    end = len(arr) - 1 if not end else end\n",
    "    mid = (start + end) // 2\n",
    "    \n",
    "    if   elem  == arr[mid]:\n",
    "        return mid\n",
    "    elif elem  <  arr[mid]:\n",
    "        return rec_binary_search(arr, elem, start , mid - 1)\n",
    "    else:\n",
    "        return rec_binary_search(arr, elem, mid + 1, end)"
   ]
  },
  {
   "cell_type": "code",
   "execution_count": 12,
   "metadata": {},
   "outputs": [],
   "source": [
    "def find_largest(arr):\n",
    "    largest = arr[0]\n",
    "    largest_index = 0\n",
    "    for i in range(1,len(arr)):\n",
    "        if arr[i] < largest:\n",
    "            largest = arr[i]\n",
    "            largest_index = i\n",
    "    return largest_index\n",
    "\n",
    "def selection_sort(arr):\n",
    "    newArr = []\n",
    "    for i in range(len(arr)):\n",
    "        largest = find_largest(arr)\n",
    "        newArr.append(arr.pop(largest))\n",
    "    return newArr"
   ]
  },
  {
   "cell_type": "code",
   "execution_count": 18,
   "metadata": {},
   "outputs": [],
   "source": [
    "def euclidean_algorithm(a,b):\n",
    "    if a > b:\n",
    "        a,b = b,a\n",
    "    if a == 0:\n",
    "        return b\n",
    "    else:\n",
    "        return euclidean_algorithm(a, b % a)"
   ]
  },
  {
   "cell_type": "code",
   "execution_count": 14,
   "metadata": {},
   "outputs": [],
   "source": [
    "def sum(arr):\n",
    "    if arr ==[]:\n",
    "        return 0\n",
    "    else:\n",
    "        return arr[0] + sum(arr[1:])"
   ]
  },
  {
   "cell_type": "code",
   "execution_count": 15,
   "metadata": {},
   "outputs": [],
   "source": [
    "def num_of_elements(arr):\n",
    "    if arr == []:\n",
    "        return 0\n",
    "    else:\n",
    "        return 1 + num_of_elements(arr[1:])"
   ]
  },
  {
   "cell_type": "code",
   "execution_count": 23,
   "metadata": {},
   "outputs": [],
   "source": [
    "def quick_sort(arr):\n",
    "    if len(arr) < 2:\n",
    "        return arr\n",
    "    else:\n",
    "        pivot = arr[0]\n",
    "        less = [i for i in arr[1:] if i <= pivot]\n",
    "        greater = [i for i in arr[1:] if i > pivot]\n",
    "        return quick_sort(less) + [pivot] + quick_sort(greater)"
   ]
  },
  {
   "cell_type": "code",
   "execution_count": 47,
   "metadata": {},
   "outputs": [],
   "source": [
    "from random import random\n",
    "def random_numbers(n):\n",
    "    return [random() for _i in range(n)]"
   ]
  },
  {
   "cell_type": "code",
   "execution_count": 51,
   "metadata": {},
   "outputs": [],
   "source": [
    "from collections import deque\n",
    "def person_is_seller(name):\n",
    "    return name[-1] == 'm'\n",
    "def search_queue(que):\n",
    "    while que:\n",
    "        person = que.popleft()\n",
    "        if person_is_seller(person):\n",
    "            print( person + 'is a mango seller')\n",
    "            return True\n",
    "        else:\n",
    "            que += graph[person]\n",
    "    return False"
   ]
  },
  {
   "cell_type": "code",
   "execution_count": 95,
   "metadata": {},
   "outputs": [
    {
     "output_type": "display_data",
     "data": {
      "text/plain": "<Figure size 432x288 with 1 Axes>",
      "image/svg+xml": "<?xml version=\"1.0\" encoding=\"utf-8\" standalone=\"no\"?>\n<!DOCTYPE svg PUBLIC \"-//W3C//DTD SVG 1.1//EN\"\n  \"http://www.w3.org/Graphics/SVG/1.1/DTD/svg11.dtd\">\n<!-- Created with matplotlib (https://matplotlib.org/) -->\n<svg height=\"231.84pt\" version=\"1.1\" viewBox=\"0 0 349.2 231.84\" width=\"349.2pt\" xmlns=\"http://www.w3.org/2000/svg\" xmlns:xlink=\"http://www.w3.org/1999/xlink\">\n <metadata>\n  <rdf:RDF xmlns:cc=\"http://creativecommons.org/ns#\" xmlns:dc=\"http://purl.org/dc/elements/1.1/\" xmlns:rdf=\"http://www.w3.org/1999/02/22-rdf-syntax-ns#\">\n   <cc:Work>\n    <dc:type rdf:resource=\"http://purl.org/dc/dcmitype/StillImage\"/>\n    <dc:date>2020-10-11T16:09:27.018663</dc:date>\n    <dc:format>image/svg+xml</dc:format>\n    <dc:creator>\n     <cc:Agent>\n      <dc:title>Matplotlib v3.3.1, https://matplotlib.org/</dc:title>\n     </cc:Agent>\n    </dc:creator>\n   </cc:Work>\n  </rdf:RDF>\n </metadata>\n <defs>\n  <style type=\"text/css\">*{stroke-linecap:butt;stroke-linejoin:round;}</style>\n </defs>\n <g id=\"figure_1\">\n  <g id=\"patch_1\">\n   <path d=\"M 0 231.84 \nL 349.2 231.84 \nL 349.2 0 \nL 0 0 \nz\n\" style=\"fill:#ffffff;\"/>\n  </g>\n  <g id=\"axes_1\">\n   <g id=\"patch_2\">\n    <path clip-path=\"url(#p1610dd0a7f)\" d=\"M 291.771054 122.229736 \nQ 245.825934 93.406748 200.82791 65.177907 \n\" style=\"fill:none;stroke:#000000;stroke-linecap:round;\"/>\n    <path clip-path=\"url(#p1610dd0a7f)\" d=\"M 203.153501 68.997806 \nL 200.82791 65.177907 \nL 205.279183 65.609373 \nL 203.153501 68.997806 \nz\n\" style=\"stroke:#000000;stroke-linecap:round;\"/>\n   </g>\n   <g id=\"patch_3\">\n    <path clip-path=\"url(#p1610dd0a7f)\" d=\"M 291.184751 147.823348 \nQ 250.838104 170.644044 211.464609 192.91431 \n\" style=\"fill:none;stroke:#000000;stroke-linecap:round;\"/>\n    <path clip-path=\"url(#p1610dd0a7f)\" d=\"M 215.930906 192.685858 \nL 211.464609 192.91431 \nL 213.961626 189.204201 \nL 215.930906 192.685858 \nz\n\" style=\"stroke:#000000;stroke-linecap:round;\"/>\n   </g>\n   <g id=\"patch_4\">\n    <path clip-path=\"url(#p1610dd0a7f)\" d=\"M 180.325025 76.251243 \nQ 183.719642 128.538696 187.041827 179.710465 \n\" style=\"fill:none;stroke:#000000;stroke-linecap:round;\"/>\n    <path clip-path=\"url(#p1610dd0a7f)\" d=\"M 188.778482 175.589296 \nL 187.041827 179.710465 \nL 184.786885 175.84844 \nL 188.778482 175.589296 \nz\n\" style=\"stroke:#000000;stroke-linecap:round;\"/>\n   </g>\n   <g id=\"patch_5\">\n    <path clip-path=\"url(#p1610dd0a7f)\" d=\"M 154.086362 46.939091 \nQ 107.47691 38.683757 61.968358 30.623411 \n\" style=\"fill:none;stroke:#000000;stroke-linecap:round;\"/>\n    <path clip-path=\"url(#p1610dd0a7f)\" d=\"M 65.55825 33.290371 \nL 61.968358 30.623411 \nL 66.255861 29.351673 \nL 65.55825 33.290371 \nz\n\" style=\"stroke:#000000;stroke-linecap:round;\"/>\n   </g>\n   <g id=\"patch_6\">\n    <path clip-path=\"url(#p1610dd0a7f)\" d=\"M 172.561045 186.711304 \nQ 112.494649 115.921565 53.151614 45.984323 \n\" style=\"fill:none;stroke:#000000;stroke-linecap:round;\"/>\n    <path clip-path=\"url(#p1610dd0a7f)\" d=\"M 54.21459 50.328294 \nL 53.151614 45.984323 \nL 57.264576 47.740324 \nL 54.21459 50.328294 \nz\n\" style=\"stroke:#000000;stroke-linecap:round;\"/>\n   </g>\n   <g id=\"text_1\">\n    <g id=\"patch_7\">\n     <path clip-path=\"url(#p1610dd0a7f)\" d=\"M 236.594141 103.306009 \nL 246.103433 106.939981 \nQ 250.587186 108.653445 252.300651 104.169692 \nL 257.828357 89.704918 \nQ 259.541821 85.221165 255.058068 83.507701 \nL 245.548775 79.873729 \nQ 241.065023 78.160265 239.351558 82.644018 \nL 233.823852 97.108792 \nQ 232.110388 101.592545 236.594141 103.306009 \nz\n\" style=\"fill:#ffffff;stroke:#ffffff;stroke-linejoin:miter;\"/>\n    </g>\n    <g clip-path=\"url(#p1610dd0a7f)\">\n     <!-- 2 -->\n     <g transform=\"translate(239.495428 95.713988)rotate(-339.085667)scale(0.16 -0.16)\">\n      <defs>\n       <path d=\"M 19.1875 8.296875 \nL 53.609375 8.296875 \nL 53.609375 0 \nL 7.328125 0 \nL 7.328125 8.296875 \nQ 12.9375 14.109375 22.625 23.890625 \nQ 32.328125 33.6875 34.8125 36.53125 \nQ 39.546875 41.84375 41.421875 45.53125 \nQ 43.3125 49.21875 43.3125 52.78125 \nQ 43.3125 58.59375 39.234375 62.25 \nQ 35.15625 65.921875 28.609375 65.921875 \nQ 23.96875 65.921875 18.8125 64.3125 \nQ 13.671875 62.703125 7.8125 59.421875 \nL 7.8125 69.390625 \nQ 13.765625 71.78125 18.9375 73 \nQ 24.125 74.21875 28.421875 74.21875 \nQ 39.75 74.21875 46.484375 68.546875 \nQ 53.21875 62.890625 53.21875 53.421875 \nQ 53.21875 48.921875 51.53125 44.890625 \nQ 49.859375 40.875 45.40625 35.40625 \nQ 44.1875 33.984375 37.640625 27.21875 \nQ 31.109375 20.453125 19.1875 8.296875 \nz\n\" id=\"DejaVuSans-50\"/>\n      </defs>\n      <use xlink:href=\"#DejaVuSans-50\"/>\n     </g>\n    </g>\n   </g>\n   <g id=\"text_2\">\n    <g id=\"patch_8\">\n     <path clip-path=\"url(#p1610dd0a7f)\" d=\"M 250.113893 184.159184 \nL 259.738606 180.842966 \nQ 264.276781 179.279328 262.713142 174.741153 \nL 257.668779 160.10081 \nQ 256.10514 155.562635 251.566965 157.126274 \nL 241.942252 160.442491 \nQ 237.404076 162.00613 238.967715 166.544305 \nL 244.012079 181.184647 \nQ 245.575718 185.722822 250.113893 184.159184 \nz\n\" style=\"fill:#ffffff;stroke:#ffffff;stroke-linejoin:miter;\"/>\n    </g>\n    <g clip-path=\"url(#p1610dd0a7f)\">\n     <!-- 6 -->\n     <g transform=\"translate(247.466294 176.475013)rotate(-19.011509)scale(0.16 -0.16)\">\n      <defs>\n       <path d=\"M 33.015625 40.375 \nQ 26.375 40.375 22.484375 35.828125 \nQ 18.609375 31.296875 18.609375 23.390625 \nQ 18.609375 15.53125 22.484375 10.953125 \nQ 26.375 6.390625 33.015625 6.390625 \nQ 39.65625 6.390625 43.53125 10.953125 \nQ 47.40625 15.53125 47.40625 23.390625 \nQ 47.40625 31.296875 43.53125 35.828125 \nQ 39.65625 40.375 33.015625 40.375 \nz\nM 52.59375 71.296875 \nL 52.59375 62.3125 \nQ 48.875 64.0625 45.09375 64.984375 \nQ 41.3125 65.921875 37.59375 65.921875 \nQ 27.828125 65.921875 22.671875 59.328125 \nQ 17.53125 52.734375 16.796875 39.40625 \nQ 19.671875 43.65625 24.015625 45.921875 \nQ 28.375 48.1875 33.59375 48.1875 \nQ 44.578125 48.1875 50.953125 41.515625 \nQ 57.328125 34.859375 57.328125 23.390625 \nQ 57.328125 12.15625 50.6875 5.359375 \nQ 44.046875 -1.421875 33.015625 -1.421875 \nQ 20.359375 -1.421875 13.671875 8.265625 \nQ 6.984375 17.96875 6.984375 36.375 \nQ 6.984375 53.65625 15.1875 63.9375 \nQ 23.390625 74.21875 37.203125 74.21875 \nQ 40.921875 74.21875 44.703125 73.484375 \nQ 48.484375 72.75 52.59375 71.296875 \nz\n\" id=\"DejaVuSans-54\"/>\n      </defs>\n      <use xlink:href=\"#DejaVuSans-54\"/>\n     </g>\n    </g>\n   </g>\n   <g id=\"text_3\">\n    <g id=\"patch_9\">\n     <path clip-path=\"url(#p1610dd0a7f)\" d=\"M 170.708139 124.803232 \nL 171.786974 134.925905 \nQ 172.295658 139.698875 177.068628 139.190191 \nL 192.466427 137.549154 \nQ 197.239397 137.04047 196.730713 132.2675 \nL 195.651878 122.144827 \nQ 195.143194 117.371857 190.370224 117.880541 \nL 174.972425 119.521578 \nQ 170.199455 120.030262 170.708139 124.803232 \nz\n\" style=\"fill:#ffffff;stroke:#ffffff;stroke-linejoin:miter;\"/>\n    </g>\n    <g clip-path=\"url(#p1610dd0a7f)\">\n     <!-- 3 -->\n     <g transform=\"translate(178.789871 123.941913)rotate(-276.083395)scale(0.16 -0.16)\">\n      <defs>\n       <path d=\"M 40.578125 39.3125 \nQ 47.65625 37.796875 51.625 33 \nQ 55.609375 28.21875 55.609375 21.1875 \nQ 55.609375 10.40625 48.1875 4.484375 \nQ 40.765625 -1.421875 27.09375 -1.421875 \nQ 22.515625 -1.421875 17.65625 -0.515625 \nQ 12.796875 0.390625 7.625 2.203125 \nL 7.625 11.71875 \nQ 11.71875 9.328125 16.59375 8.109375 \nQ 21.484375 6.890625 26.8125 6.890625 \nQ 36.078125 6.890625 40.9375 10.546875 \nQ 45.796875 14.203125 45.796875 21.1875 \nQ 45.796875 27.640625 41.28125 31.265625 \nQ 36.765625 34.90625 28.71875 34.90625 \nL 20.21875 34.90625 \nL 20.21875 43.015625 \nL 29.109375 43.015625 \nQ 36.375 43.015625 40.234375 45.921875 \nQ 44.09375 48.828125 44.09375 54.296875 \nQ 44.09375 59.90625 40.109375 62.90625 \nQ 36.140625 65.921875 28.71875 65.921875 \nQ 24.65625 65.921875 20.015625 65.03125 \nQ 15.375 64.15625 9.8125 62.3125 \nL 9.8125 71.09375 \nQ 15.4375 72.65625 20.34375 73.4375 \nQ 25.25 74.21875 29.59375 74.21875 \nQ 40.828125 74.21875 47.359375 69.109375 \nQ 53.90625 64.015625 53.90625 55.328125 \nQ 53.90625 49.265625 50.4375 45.09375 \nQ 46.96875 40.921875 40.578125 39.3125 \nz\n\" id=\"DejaVuSans-51\"/>\n      </defs>\n      <use xlink:href=\"#DejaVuSans-51\"/>\n     </g>\n    </g>\n   </g>\n   <g id=\"text_4\">\n    <g id=\"patch_10\">\n     <path clip-path=\"url(#p1610dd0a7f)\" d=\"M 101.072924 50.608246 \nL 111.194184 51.700262 \nQ 115.966487 52.215162 116.481387 47.442858 \nL 118.142474 32.047209 \nQ 118.657373 27.274906 113.88507 26.760006 \nL 103.76381 25.66799 \nQ 98.991507 25.153091 98.476607 29.925394 \nL 96.81552 45.321044 \nQ 96.300621 50.093347 101.072924 50.608246 \nz\n\" style=\"fill:#ffffff;stroke:#ffffff;stroke-linejoin:miter;\"/>\n    </g>\n    <g clip-path=\"url(#p1610dd0a7f)\">\n     <!-- 5 -->\n     <g transform=\"translate(101.944767 42.527643)rotate(-353.841992)scale(0.16 -0.16)\">\n      <defs>\n       <path d=\"M 10.796875 72.90625 \nL 49.515625 72.90625 \nL 49.515625 64.59375 \nL 19.828125 64.59375 \nL 19.828125 46.734375 \nQ 21.96875 47.46875 24.109375 47.828125 \nQ 26.265625 48.1875 28.421875 48.1875 \nQ 40.625 48.1875 47.75 41.5 \nQ 54.890625 34.8125 54.890625 23.390625 \nQ 54.890625 11.625 47.5625 5.09375 \nQ 40.234375 -1.421875 26.90625 -1.421875 \nQ 22.3125 -1.421875 17.546875 -0.640625 \nQ 12.796875 0.140625 7.71875 1.703125 \nL 7.71875 11.625 \nQ 12.109375 9.234375 16.796875 8.0625 \nQ 21.484375 6.890625 26.703125 6.890625 \nQ 35.15625 6.890625 40.078125 11.328125 \nQ 45.015625 15.765625 45.015625 23.390625 \nQ 45.015625 31 40.078125 35.4375 \nQ 35.15625 39.890625 26.703125 39.890625 \nQ 22.75 39.890625 18.8125 39.015625 \nQ 14.890625 38.140625 10.796875 36.28125 \nz\n\" id=\"DejaVuSans-53\"/>\n      </defs>\n      <use xlink:href=\"#DejaVuSans-53\"/>\n     </g>\n    </g>\n   </g>\n   <g id=\"text_5\">\n    <g id=\"patch_11\">\n     <path clip-path=\"url(#p1610dd0a7f)\" d=\"M 101.043888 123.14031 \nL 109.313479 129.077166 \nQ 113.212697 131.876469 116.012 127.977251 \nL 125.04267 115.398212 \nQ 127.841973 111.498994 123.942755 108.69969 \nL 115.673164 102.762834 \nQ 111.773946 99.963531 108.974643 103.862749 \nL 99.943973 116.441788 \nQ 97.14467 120.341006 101.043888 123.14031 \nz\n\" style=\"fill:#ffffff;stroke:#ffffff;stroke-linejoin:miter;\"/>\n    </g>\n    <g clip-path=\"url(#p1610dd0a7f)\">\n     <!-- 1 -->\n     <g transform=\"translate(105.78375 116.53804)rotate(-324.324901)scale(0.16 -0.16)\">\n      <defs>\n       <path d=\"M 12.40625 8.296875 \nL 28.515625 8.296875 \nL 28.515625 63.921875 \nL 10.984375 60.40625 \nL 10.984375 69.390625 \nL 28.421875 72.90625 \nL 38.28125 72.90625 \nL 38.28125 8.296875 \nL 54.390625 8.296875 \nL 54.390625 0 \nL 12.40625 0 \nz\n\" id=\"DejaVuSans-49\"/>\n      </defs>\n      <use xlink:href=\"#DejaVuSans-49\"/>\n     </g>\n    </g>\n   </g>\n   <g id=\"PathCollection_1\">\n    <defs>\n     <path d=\"M 0 25 \nC 6.630078 25 12.989497 22.365842 17.67767 17.67767 \nC 22.365842 12.989497 25 6.630078 25 0 \nC 25 -6.630078 22.365842 -12.989497 17.67767 -17.67767 \nC 12.989497 -22.365842 6.630078 -25 0 -25 \nC -6.630078 -25 -12.989497 -22.365842 -17.67767 -17.67767 \nC -22.365842 -12.989497 -25 -6.630078 -25 0 \nC -25 6.630078 -22.365842 12.989497 -17.67767 17.67767 \nC -12.989497 22.365842 -6.630078 25 0 25 \nz\n\" id=\"m337fc1b01f\" style=\"stroke:#ffffff;\"/>\n    </defs>\n    <g clip-path=\"url(#p1610dd0a7f)\">\n     <use style=\"fill:#ffffff;stroke:#ffffff;\" x=\"312.947107\" xlink:href=\"#m337fc1b01f\" y=\"135.514218\"/>\n     <use style=\"fill:#ffffff;stroke:#ffffff;\" x=\"178.705101\" xlink:href=\"#m337fc1b01f\" y=\"51.299492\"/>\n     <use style=\"fill:#ffffff;stroke:#ffffff;\" x=\"188.73375\" xlink:href=\"#m337fc1b01f\" y=\"205.77124\"/>\n     <use style=\"fill:#ffffff;stroke:#ffffff;\" x=\"36.252893\" xlink:href=\"#m337fc1b01f\" y=\"26.06876\"/>\n    </g>\n   </g>\n   <g id=\"text_6\">\n    <g clip-path=\"url(#p1610dd0a7f)\">\n     <!-- start -->\n     <g transform=\"translate(289.658045 141.032968)scale(0.2 -0.2)\">\n      <defs>\n       <path d=\"M 44.28125 53.078125 \nL 44.28125 44.578125 \nQ 40.484375 46.53125 36.375 47.5 \nQ 32.28125 48.484375 27.875 48.484375 \nQ 21.1875 48.484375 17.84375 46.4375 \nQ 14.5 44.390625 14.5 40.28125 \nQ 14.5 37.15625 16.890625 35.375 \nQ 19.28125 33.59375 26.515625 31.984375 \nL 29.59375 31.296875 \nQ 39.15625 29.25 43.1875 25.515625 \nQ 47.21875 21.78125 47.21875 15.09375 \nQ 47.21875 7.46875 41.1875 3.015625 \nQ 35.15625 -1.421875 24.609375 -1.421875 \nQ 20.21875 -1.421875 15.453125 -0.5625 \nQ 10.6875 0.296875 5.421875 2 \nL 5.421875 11.28125 \nQ 10.40625 8.6875 15.234375 7.390625 \nQ 20.0625 6.109375 24.8125 6.109375 \nQ 31.15625 6.109375 34.5625 8.28125 \nQ 37.984375 10.453125 37.984375 14.40625 \nQ 37.984375 18.0625 35.515625 20.015625 \nQ 33.0625 21.96875 24.703125 23.78125 \nL 21.578125 24.515625 \nQ 13.234375 26.265625 9.515625 29.90625 \nQ 5.8125 33.546875 5.8125 39.890625 \nQ 5.8125 47.609375 11.28125 51.796875 \nQ 16.75 56 26.8125 56 \nQ 31.78125 56 36.171875 55.265625 \nQ 40.578125 54.546875 44.28125 53.078125 \nz\n\" id=\"DejaVuSans-115\"/>\n       <path d=\"M 18.3125 70.21875 \nL 18.3125 54.6875 \nL 36.8125 54.6875 \nL 36.8125 47.703125 \nL 18.3125 47.703125 \nL 18.3125 18.015625 \nQ 18.3125 11.328125 20.140625 9.421875 \nQ 21.96875 7.515625 27.59375 7.515625 \nL 36.8125 7.515625 \nL 36.8125 0 \nL 27.59375 0 \nQ 17.1875 0 13.234375 3.875 \nQ 9.28125 7.765625 9.28125 18.015625 \nL 9.28125 47.703125 \nL 2.6875 47.703125 \nL 2.6875 54.6875 \nL 9.28125 54.6875 \nL 9.28125 70.21875 \nz\n\" id=\"DejaVuSans-116\"/>\n       <path d=\"M 34.28125 27.484375 \nQ 23.390625 27.484375 19.1875 25 \nQ 14.984375 22.515625 14.984375 16.5 \nQ 14.984375 11.71875 18.140625 8.90625 \nQ 21.296875 6.109375 26.703125 6.109375 \nQ 34.1875 6.109375 38.703125 11.40625 \nQ 43.21875 16.703125 43.21875 25.484375 \nL 43.21875 27.484375 \nz\nM 52.203125 31.203125 \nL 52.203125 0 \nL 43.21875 0 \nL 43.21875 8.296875 \nQ 40.140625 3.328125 35.546875 0.953125 \nQ 30.953125 -1.421875 24.3125 -1.421875 \nQ 15.921875 -1.421875 10.953125 3.296875 \nQ 6 8.015625 6 15.921875 \nQ 6 25.140625 12.171875 29.828125 \nQ 18.359375 34.515625 30.609375 34.515625 \nL 43.21875 34.515625 \nL 43.21875 35.40625 \nQ 43.21875 41.609375 39.140625 45 \nQ 35.0625 48.390625 27.6875 48.390625 \nQ 23 48.390625 18.546875 47.265625 \nQ 14.109375 46.140625 10.015625 43.890625 \nL 10.015625 52.203125 \nQ 14.9375 54.109375 19.578125 55.046875 \nQ 24.21875 56 28.609375 56 \nQ 40.484375 56 46.34375 49.84375 \nQ 52.203125 43.703125 52.203125 31.203125 \nz\n\" id=\"DejaVuSans-97\"/>\n       <path d=\"M 41.109375 46.296875 \nQ 39.59375 47.171875 37.8125 47.578125 \nQ 36.03125 48 33.890625 48 \nQ 26.265625 48 22.1875 43.046875 \nQ 18.109375 38.09375 18.109375 28.8125 \nL 18.109375 0 \nL 9.078125 0 \nL 9.078125 54.6875 \nL 18.109375 54.6875 \nL 18.109375 46.1875 \nQ 20.953125 51.171875 25.484375 53.578125 \nQ 30.03125 56 36.53125 56 \nQ 37.453125 56 38.578125 55.875 \nQ 39.703125 55.765625 41.0625 55.515625 \nz\n\" id=\"DejaVuSans-114\"/>\n      </defs>\n      <use xlink:href=\"#DejaVuSans-115\"/>\n      <use x=\"52.099609\" xlink:href=\"#DejaVuSans-116\"/>\n      <use x=\"91.308594\" xlink:href=\"#DejaVuSans-97\"/>\n      <use x=\"152.587891\" xlink:href=\"#DejaVuSans-114\"/>\n      <use x=\"193.701172\" xlink:href=\"#DejaVuSans-116\"/>\n     </g>\n    </g>\n   </g>\n   <g id=\"text_7\">\n    <g clip-path=\"url(#p1610dd0a7f)\">\n     <!-- B -->\n     <g transform=\"translate(171.844164 56.818242)scale(0.2 -0.2)\">\n      <defs>\n       <path d=\"M 19.671875 34.8125 \nL 19.671875 8.109375 \nL 35.5 8.109375 \nQ 43.453125 8.109375 47.28125 11.40625 \nQ 51.125 14.703125 51.125 21.484375 \nQ 51.125 28.328125 47.28125 31.5625 \nQ 43.453125 34.8125 35.5 34.8125 \nz\nM 19.671875 64.796875 \nL 19.671875 42.828125 \nL 34.28125 42.828125 \nQ 41.5 42.828125 45.03125 45.53125 \nQ 48.578125 48.25 48.578125 53.8125 \nQ 48.578125 59.328125 45.03125 62.0625 \nQ 41.5 64.796875 34.28125 64.796875 \nz\nM 9.8125 72.90625 \nL 35.015625 72.90625 \nQ 46.296875 72.90625 52.390625 68.21875 \nQ 58.5 63.53125 58.5 54.890625 \nQ 58.5 48.1875 55.375 44.234375 \nQ 52.25 40.28125 46.1875 39.3125 \nQ 53.46875 37.75 57.5 32.78125 \nQ 61.53125 27.828125 61.53125 20.40625 \nQ 61.53125 10.640625 54.890625 5.3125 \nQ 48.25 0 35.984375 0 \nL 9.8125 0 \nz\n\" id=\"DejaVuSans-66\"/>\n      </defs>\n      <use xlink:href=\"#DejaVuSans-66\"/>\n     </g>\n    </g>\n   </g>\n   <g id=\"text_8\">\n    <g clip-path=\"url(#p1610dd0a7f)\">\n     <!-- A -->\n     <g transform=\"translate(181.893125 211.28999)scale(0.2 -0.2)\">\n      <defs>\n       <path d=\"M 34.1875 63.1875 \nL 20.796875 26.90625 \nL 47.609375 26.90625 \nz\nM 28.609375 72.90625 \nL 39.796875 72.90625 \nL 67.578125 0 \nL 57.328125 0 \nL 50.6875 18.703125 \nL 17.828125 18.703125 \nL 11.1875 0 \nL 0.78125 0 \nz\n\" id=\"DejaVuSans-65\"/>\n      </defs>\n      <use xlink:href=\"#DejaVuSans-65\"/>\n     </g>\n    </g>\n   </g>\n   <g id=\"text_9\">\n    <g clip-path=\"url(#p1610dd0a7f)\">\n     <!-- end -->\n     <g transform=\"translate(17.41383 31.58751)scale(0.2 -0.2)\">\n      <defs>\n       <path d=\"M 56.203125 29.59375 \nL 56.203125 25.203125 \nL 14.890625 25.203125 \nQ 15.484375 15.921875 20.484375 11.0625 \nQ 25.484375 6.203125 34.421875 6.203125 \nQ 39.59375 6.203125 44.453125 7.46875 \nQ 49.3125 8.734375 54.109375 11.28125 \nL 54.109375 2.78125 \nQ 49.265625 0.734375 44.1875 -0.34375 \nQ 39.109375 -1.421875 33.890625 -1.421875 \nQ 20.796875 -1.421875 13.15625 6.1875 \nQ 5.515625 13.8125 5.515625 26.8125 \nQ 5.515625 40.234375 12.765625 48.109375 \nQ 20.015625 56 32.328125 56 \nQ 43.359375 56 49.78125 48.890625 \nQ 56.203125 41.796875 56.203125 29.59375 \nz\nM 47.21875 32.234375 \nQ 47.125 39.59375 43.09375 43.984375 \nQ 39.0625 48.390625 32.421875 48.390625 \nQ 24.90625 48.390625 20.390625 44.140625 \nQ 15.875 39.890625 15.1875 32.171875 \nz\n\" id=\"DejaVuSans-101\"/>\n       <path d=\"M 54.890625 33.015625 \nL 54.890625 0 \nL 45.90625 0 \nL 45.90625 32.71875 \nQ 45.90625 40.484375 42.875 44.328125 \nQ 39.84375 48.1875 33.796875 48.1875 \nQ 26.515625 48.1875 22.3125 43.546875 \nQ 18.109375 38.921875 18.109375 30.90625 \nL 18.109375 0 \nL 9.078125 0 \nL 9.078125 54.6875 \nL 18.109375 54.6875 \nL 18.109375 46.1875 \nQ 21.34375 51.125 25.703125 53.5625 \nQ 30.078125 56 35.796875 56 \nQ 45.21875 56 50.046875 50.171875 \nQ 54.890625 44.34375 54.890625 33.015625 \nz\n\" id=\"DejaVuSans-110\"/>\n       <path d=\"M 45.40625 46.390625 \nL 45.40625 75.984375 \nL 54.390625 75.984375 \nL 54.390625 0 \nL 45.40625 0 \nL 45.40625 8.203125 \nQ 42.578125 3.328125 38.25 0.953125 \nQ 33.9375 -1.421875 27.875 -1.421875 \nQ 17.96875 -1.421875 11.734375 6.484375 \nQ 5.515625 14.40625 5.515625 27.296875 \nQ 5.515625 40.1875 11.734375 48.09375 \nQ 17.96875 56 27.875 56 \nQ 33.9375 56 38.25 53.625 \nQ 42.578125 51.265625 45.40625 46.390625 \nz\nM 14.796875 27.296875 \nQ 14.796875 17.390625 18.875 11.75 \nQ 22.953125 6.109375 30.078125 6.109375 \nQ 37.203125 6.109375 41.296875 11.75 \nQ 45.40625 17.390625 45.40625 27.296875 \nQ 45.40625 37.203125 41.296875 42.84375 \nQ 37.203125 48.484375 30.078125 48.484375 \nQ 22.953125 48.484375 18.875 42.84375 \nQ 14.796875 37.203125 14.796875 27.296875 \nz\n\" id=\"DejaVuSans-100\"/>\n      </defs>\n      <use xlink:href=\"#DejaVuSans-101\"/>\n      <use x=\"61.523438\" xlink:href=\"#DejaVuSans-110\"/>\n      <use x=\"124.902344\" xlink:href=\"#DejaVuSans-100\"/>\n     </g>\n    </g>\n   </g>\n  </g>\n </g>\n <defs>\n  <clipPath id=\"p1610dd0a7f\">\n   <rect height=\"217.44\" width=\"334.8\" x=\"7.2\" y=\"7.2\"/>\n  </clipPath>\n </defs>\n</svg>\n",
      "image/png": "[encoded data removed]"
     },
     "metadata": {}
    }
   ],
   "source": [
    "import networkx as nx \n",
    "dg = nx.DiGraph()\n",
    "dg.add_edges_from([(\"start\",\"B\"),(\"start\",\"A\"),(\"B\",\"A\"),(\"B\",\"end\"),(\"A\",\"end\")])\n",
    "edge_labels = {(\"start\",\"B\"):2,(\"start\",\"A\"):6,(\"B\",\"A\"):3,(\"B\",\"end\"):5,(\"A\",\"end\"):1}\n",
    "pos = nx.spring_layout(dg)\n",
    "\n",
    "nx.draw_networkx_edge_labels(dg,pos,edge_labels=edge_labels, font_size=16)\n",
    "nx.draw_networkx_labels(dg, pos, font_size=20, font_color='k')\n",
    "nx.draw(dg, pos, node_size=2500, node_color=\"w\")\n"
   ]
  },
  {
   "cell_type": "code",
   "execution_count": 2,
   "metadata": {},
   "outputs": [
    {
     "output_type": "execute_result",
     "data": {
      "text/plain": [
       "('start -> b -> a -> end', 6)"
      ]
     },
     "metadata": {},
     "execution_count": 2
    }
   ],
   "source": [
    "# A graph Hash Table\n",
    "graph = {}\n",
    "\n",
    "graph[\"start\"] = {}\n",
    "graph[\"start\"][\"a\"] = 6\n",
    "graph[\"start\"][\"b\"] = 2\n",
    "\n",
    "graph[\"a\"] = {}\n",
    "graph[\"a\"][\"end\"] = 1\n",
    "\n",
    "graph[\"b\"] = {}\n",
    "graph[\"b\"][\"a\"] = 3\n",
    "graph[\"b\"][\"end\"] = 5\n",
    "graph[\"end\"] = {}\n",
    "\n",
    "# A costs Hash Table\n",
    "inf = float(\"inf\")\n",
    "costs = {}\n",
    "costs[\"a\"] = 6\n",
    "costs[\"b\"] = 2\n",
    "costs[\"end\"] = inf\n",
    "\n",
    "# A parents Hash Table\n",
    "parents = {}\n",
    "parents[\"a\"] = \"start\"\n",
    "parents[\"b\"] = \"start\"\n",
    "parents[\"end\"] = None\n",
    "\n",
    "# A tuple that record processed notes\n",
    "processed = []\n",
    "\n",
    "def find_lowest_cost_node(costs):\n",
    "    lowest_cost = float (\"inf\")\n",
    "    lowest_cost_node = None\n",
    "    for node in costs:\n",
    "        cost = costs[node]\n",
    "        if cost < lowest_cost and node not in processed:\n",
    "            lowest_cost = cost\n",
    "            lowest_cost_node = node\n",
    "    return lowest_cost_node\n",
    "\n",
    "node = find_lowest_cost_node(costs)\n",
    "while node is not None:\n",
    "    cost = costs[node]\n",
    "    neighbours = graph[node]\n",
    "    for n in neighbours.keys():\n",
    "        new_cost = cost + neighbours[n]\n",
    "        if costs[n] > new_cost:\n",
    "            costs[n] = new_cost\n",
    "            parents[n] = node\n",
    "    processed.append(node)\n",
    "    node = find_lowest_cost_node(costs)\n",
    "\n",
    "def get_shortest_path(node='end'):\n",
    "    if node == 'start':\n",
    "        return 'start'\n",
    "    else:\n",
    "        return get_shortest_path(parents[node]) + ' -> '  + node\n",
    "\n",
    "get_shortest_path('end'), costs['end']"
   ]
  },
  {
   "cell_type": "code",
   "execution_count": 4,
   "metadata": {},
   "outputs": [],
   "source": [
    "class Node(object):\n",
    "    def __init__(self,name):\n",
    "        self._name = name\n",
    "        self._node = {}\n",
    "\n",
    "    def get_node(self):\n",
    "        return self._node\n",
    "    def get_name(self):\n",
    "        return self._name\n",
    "        \n",
    "    def add_next_node(self,key,value):\n",
    "        self._node[key] = value\n",
    "    def set_value(self,value):\n",
    "        self.value = value\n",
    "    def set_parent(self,parent):\n",
    "        self.parent = parent"
   ]
  },
  {
   "cell_type": "code",
   "execution_count": 5,
   "metadata": {},
   "outputs": [],
   "source": [
    "class Tree(object):\n",
    "    def __init__(self,name):\n",
    "        self._name = name\n",
    "        self._tree = {}\n",
    "\n",
    "    def add_node(self,node):\n",
    "        _node_name = node.get_name()\n",
    "        _node = node.get_node()\n",
    "        self._tree[_node_name] = {}\n",
    "        for key in _node.keys():\n",
    "            self._tree[_node_name][key] = _node[key]\n",
    "\n",
    "    def get_tree(self):\n",
    "        return self._tree"
   ]
  },
  {
   "cell_type": "code",
   "execution_count": 9,
   "metadata": {},
   "outputs": [
    {
     "output_type": "execute_result",
     "data": {
      "text/plain": [
       "{'start': {'a': 6, 'b': 2},\n",
       " 'a': {'end': 1},\n",
       " 'b': {'a': 3, 'end': 5},\n",
       " 'end': {}}"
      ]
     },
     "metadata": {},
     "execution_count": 9
    }
   ],
   "source": [
    "start = Node('start')\n",
    "start.add_next_node('a', 6)\n",
    "start.add_next_node('b', 2)\n",
    "\n",
    "a = Node('a')\n",
    "a.add_next_node('end', 1)\n",
    "\n",
    "b = Node('b')\n",
    "b.add_next_node('a', 3)\n",
    "b.add_next_node('end', 5)\n",
    "\n",
    "end = Node('end')\n",
    "\n",
    "graph_tree = Tree('graph')\n",
    "graph_tree.add_node(start)\n",
    "graph_tree.add_node(a)\n",
    "graph_tree.add_node(b)\n",
    "graph_tree.add_node(end)\n",
    "\n",
    "graph_tree.get_tree()"
   ]
  },
  {
   "cell_type": "code",
   "execution_count": null,
   "metadata": {},
   "outputs": [],
   "source": []
  }
 ]
}